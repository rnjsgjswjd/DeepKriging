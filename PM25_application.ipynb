{
 "cells": [
  {
   "cell_type": "code",
   "execution_count": 1,
   "metadata": {},
   "outputs": [],
   "source": [
    "import pandas as pd\n",
    "from keras.models import Sequential\n",
    "from keras.layers import Dense, Dropout, BatchNormalization\n",
    "# from keras.wrappers.scikit_learn import KerasRegressor\n",
    "from sklearn.model_selection import cross_val_score\n",
    "from sklearn.model_selection import KFold\n",
    "from sklearn.preprocessing import StandardScaler\n",
    "from sklearn.pipeline import Pipeline\n",
    "import numpy as np\n",
    "import GPy\n",
    "import matplotlib.pyplot as plt"
   ]
  },
  {
   "cell_type": "code",
   "execution_count": 2,
   "metadata": {},
   "outputs": [],
   "source": [
    "## Read PM2.5 data at June 05, 2019\n",
    "df1 = pd.read_csv('C:\\git\\DeepKriging\\covariate0605.csv')\n",
    "df2 = pd.read_csv('C:\\git\\DeepKriging\\pm25_0605.csv')"
   ]
  },
  {
   "cell_type": "code",
   "execution_count": 3,
   "metadata": {
    "scrolled": true
   },
   "outputs": [
    {
     "data": {
      "text/html": [
       "<div>\n",
       "<style scoped>\n",
       "    .dataframe tbody tr th:only-of-type {\n",
       "        vertical-align: middle;\n",
       "    }\n",
       "\n",
       "    .dataframe tbody tr th {\n",
       "        vertical-align: top;\n",
       "    }\n",
       "\n",
       "    .dataframe thead th {\n",
       "        text-align: right;\n",
       "    }\n",
       "</style>\n",
       "<table border=\"1\" class=\"dataframe\">\n",
       "  <thead>\n",
       "    <tr style=\"text-align: right;\">\n",
       "      <th></th>\n",
       "      <th>Unnamed: 0</th>\n",
       "      <th>long</th>\n",
       "      <th>lat</th>\n",
       "      <th>prec</th>\n",
       "      <th>temp</th>\n",
       "      <th>pres</th>\n",
       "      <th>rh</th>\n",
       "      <th>uwind</th>\n",
       "      <th>vwind</th>\n",
       "    </tr>\n",
       "  </thead>\n",
       "  <tbody>\n",
       "    <tr>\n",
       "      <th>0</th>\n",
       "      <td>41242</td>\n",
       "      <td>-69.111491</td>\n",
       "      <td>47.386418</td>\n",
       "      <td>0.283942</td>\n",
       "      <td>278.605652</td>\n",
       "      <td>96929.570312</td>\n",
       "      <td>79.589600</td>\n",
       "      <td>4.852976</td>\n",
       "      <td>1.651037</td>\n",
       "    </tr>\n",
       "    <tr>\n",
       "      <th>1</th>\n",
       "      <td>41243</td>\n",
       "      <td>-68.736976</td>\n",
       "      <td>47.244262</td>\n",
       "      <td>0.276129</td>\n",
       "      <td>278.605652</td>\n",
       "      <td>97242.070312</td>\n",
       "      <td>79.589600</td>\n",
       "      <td>4.470163</td>\n",
       "      <td>1.646155</td>\n",
       "    </tr>\n",
       "    <tr>\n",
       "      <th>2</th>\n",
       "      <td>41244</td>\n",
       "      <td>-68.364554</td>\n",
       "      <td>47.100850</td>\n",
       "      <td>0.276129</td>\n",
       "      <td>279.753113</td>\n",
       "      <td>98692.070312</td>\n",
       "      <td>75.652100</td>\n",
       "      <td>4.477976</td>\n",
       "      <td>1.624670</td>\n",
       "    </tr>\n",
       "    <tr>\n",
       "      <th>3</th>\n",
       "      <td>41245</td>\n",
       "      <td>-67.994227</td>\n",
       "      <td>46.956192</td>\n",
       "      <td>0.604254</td>\n",
       "      <td>280.398621</td>\n",
       "      <td>98792.070312</td>\n",
       "      <td>77.417725</td>\n",
       "      <td>4.096140</td>\n",
       "      <td>1.615881</td>\n",
       "    </tr>\n",
       "    <tr>\n",
       "      <th>4</th>\n",
       "      <td>41589</td>\n",
       "      <td>-69.318835</td>\n",
       "      <td>47.131182</td>\n",
       "      <td>0.174567</td>\n",
       "      <td>278.424988</td>\n",
       "      <td>96567.070312</td>\n",
       "      <td>77.456787</td>\n",
       "      <td>5.140085</td>\n",
       "      <td>1.481116</td>\n",
       "    </tr>\n",
       "  </tbody>\n",
       "</table>\n",
       "</div>"
      ],
      "text/plain": [
       "   Unnamed: 0       long        lat      prec        temp          pres  \\\n",
       "0       41242 -69.111491  47.386418  0.283942  278.605652  96929.570312   \n",
       "1       41243 -68.736976  47.244262  0.276129  278.605652  97242.070312   \n",
       "2       41244 -68.364554  47.100850  0.276129  279.753113  98692.070312   \n",
       "3       41245 -67.994227  46.956192  0.604254  280.398621  98792.070312   \n",
       "4       41589 -69.318835  47.131182  0.174567  278.424988  96567.070312   \n",
       "\n",
       "          rh     uwind     vwind  \n",
       "0  79.589600  4.852976  1.651037  \n",
       "1  79.589600  4.470163  1.646155  \n",
       "2  75.652100  4.477976  1.624670  \n",
       "3  77.417725  4.096140  1.615881  \n",
       "4  77.456787  5.140085  1.481116  "
      ]
     },
     "execution_count": 3,
     "metadata": {},
     "output_type": "execute_result"
    }
   ],
   "source": [
    "df1.head(5)"
   ]
  },
  {
   "cell_type": "code",
   "execution_count": 4,
   "metadata": {},
   "outputs": [
    {
     "data": {
      "text/html": [
       "<div>\n",
       "<style scoped>\n",
       "    .dataframe tbody tr th:only-of-type {\n",
       "        vertical-align: middle;\n",
       "    }\n",
       "\n",
       "    .dataframe tbody tr th {\n",
       "        vertical-align: top;\n",
       "    }\n",
       "\n",
       "    .dataframe thead th {\n",
       "        text-align: right;\n",
       "    }\n",
       "</style>\n",
       "<table border=\"1\" class=\"dataframe\">\n",
       "  <thead>\n",
       "    <tr style=\"text-align: right;\">\n",
       "      <th></th>\n",
       "      <th>Unnamed: 0</th>\n",
       "      <th>Longitude</th>\n",
       "      <th>Latitude</th>\n",
       "      <th>PM25</th>\n",
       "      <th>PM_class</th>\n",
       "    </tr>\n",
       "  </thead>\n",
       "  <tbody>\n",
       "    <tr>\n",
       "      <th>0</th>\n",
       "      <td>1</td>\n",
       "      <td>-80.482778</td>\n",
       "      <td>25.471944</td>\n",
       "      <td>4.400000</td>\n",
       "      <td>1</td>\n",
       "    </tr>\n",
       "    <tr>\n",
       "      <th>1</th>\n",
       "      <td>2</td>\n",
       "      <td>-80.215556</td>\n",
       "      <td>25.794222</td>\n",
       "      <td>4.929167</td>\n",
       "      <td>1</td>\n",
       "    </tr>\n",
       "    <tr>\n",
       "      <th>2</th>\n",
       "      <td>3</td>\n",
       "      <td>-97.493830</td>\n",
       "      <td>25.892518</td>\n",
       "      <td>8.213636</td>\n",
       "      <td>1</td>\n",
       "    </tr>\n",
       "    <tr>\n",
       "      <th>3</th>\n",
       "      <td>4</td>\n",
       "      <td>-80.326389</td>\n",
       "      <td>25.941944</td>\n",
       "      <td>4.100000</td>\n",
       "      <td>1</td>\n",
       "    </tr>\n",
       "    <tr>\n",
       "      <th>4</th>\n",
       "      <td>5</td>\n",
       "      <td>-80.256944</td>\n",
       "      <td>26.053889</td>\n",
       "      <td>4.992754</td>\n",
       "      <td>1</td>\n",
       "    </tr>\n",
       "  </tbody>\n",
       "</table>\n",
       "</div>"
      ],
      "text/plain": [
       "   Unnamed: 0  Longitude   Latitude      PM25  PM_class\n",
       "0           1 -80.482778  25.471944  4.400000         1\n",
       "1           2 -80.215556  25.794222  4.929167         1\n",
       "2           3 -97.493830  25.892518  8.213636         1\n",
       "3           4 -80.326389  25.941944  4.100000         1\n",
       "4           5 -80.256944  26.053889  4.992754         1"
      ]
     },
     "execution_count": 4,
     "metadata": {},
     "output_type": "execute_result"
    }
   ],
   "source": [
    "df2.head(5)"
   ]
  },
  {
   "cell_type": "code",
   "execution_count": 5,
   "metadata": {},
   "outputs": [
    {
     "data": {
      "text/plain": [
       "(7706, 6)"
      ]
     },
     "execution_count": 5,
     "metadata": {},
     "output_type": "execute_result"
    }
   ],
   "source": [
    "covariates = df1.values[:,3:]\n",
    "covariates.shape"
   ]
  },
  {
   "cell_type": "code",
   "execution_count": 6,
   "metadata": {},
   "outputs": [
    {
     "data": {
      "text/plain": [
       "(842, 2)"
      ]
     },
     "execution_count": 6,
     "metadata": {},
     "output_type": "execute_result"
    }
   ],
   "source": [
    "aqs_lonlat=df2.values[:,[1,2]]\n",
    "aqs_lonlat.shape"
   ]
  },
  {
   "cell_type": "markdown",
   "metadata": {},
   "source": [
    "### Pair the long and lat based on the nearest neighbor"
   ]
  },
  {
   "cell_type": "code",
   "execution_count": 7,
   "metadata": {},
   "outputs": [],
   "source": [
    "from scipy import spatial\n",
    "near = df1.values[:,[1,2]]\n",
    "tree = spatial.KDTree(list(zip(near[:,0].ravel(), near[:,1].ravel())))\n",
    "tree.data\n",
    "idx = tree.query(aqs_lonlat)[1]"
   ]
  },
  {
   "cell_type": "code",
   "execution_count": 8,
   "metadata": {},
   "outputs": [],
   "source": [
    "df2_new = df2.assign(neighbor = idx)\n",
    "df_pm25 = df2_new.groupby('neighbor')['PM25'].mean()\n",
    "df_pm25_class = pd.cut(df_pm25,bins=[-0.1,12.1,35.5],labels=[\"0\",\"1\"])\n",
    "    # cut 기준을 0부터 해서 오류가 발생함. -0.1부터 시작하면 오류가 발생하지 않음.\n",
    "idx_new = df_pm25.index.values"
   ]
  },
  {
   "cell_type": "code",
   "execution_count": 9,
   "metadata": {},
   "outputs": [],
   "source": [
    "pm25 = df_pm25.values\n",
    "pm25_class = np.array(df_pm25_class.values, dtype=int)\n",
    "z = pm25[:,None]\n",
    "z_class = pm25_class[:,None]"
   ]
  },
  {
   "cell_type": "code",
   "execution_count": 10,
   "metadata": {},
   "outputs": [],
   "source": [
    "lon = df1.values[:,1]\n",
    "lat = df1.values[:,2]\n",
    "normalized_lon = (lon-min(lon))/(max(lon)-min(lon))\n",
    "normalized_lat = (lat-min(lat))/(max(lat)-min(lat))\n",
    "N = lon.shape[0]"
   ]
  },
  {
   "cell_type": "code",
   "execution_count": 11,
   "metadata": {},
   "outputs": [],
   "source": [
    "num_basis = [10**2,19**2,37**2]\n",
    "knots_1dx = [np.linspace(0,1,int(np.sqrt(i))) for i in num_basis]\n",
    "knots_1dy = [np.linspace(0,1,int(np.sqrt(i))) for i in num_basis]\n",
    "##Wendland kernel\n",
    "basis_size = 0\n",
    "phi = np.zeros((N, sum(num_basis)))\n",
    "for res in range(len(num_basis)):\n",
    "    theta = 1/np.sqrt(num_basis[res])*2.5\n",
    "    knots_x, knots_y = np.meshgrid(knots_1dx[res],knots_1dy[res])\n",
    "    knots = np.column_stack((knots_x.flatten(),knots_y.flatten()))\n",
    "    for i in range(num_basis[res]):\n",
    "        d = np.linalg.norm(np.vstack((normalized_lon,normalized_lat)).T-knots[i,:],axis=1)/theta\n",
    "        for j in range(len(d)):\n",
    "            if d[j] >= 0 and d[j] <= 1:\n",
    "                phi[j,i + basis_size] = (1-d[j])**6 * (35 * d[j]**2 + 18 * d[j] + 3)/3\n",
    "            else:\n",
    "                phi[j,i + basis_size] = 0\n",
    "    basis_size = basis_size + num_basis[res]"
   ]
  },
  {
   "cell_type": "code",
   "execution_count": 12,
   "metadata": {},
   "outputs": [],
   "source": [
    "## Romove the all-zero columns\n",
    "idx_zero = np.array([], dtype=int)\n",
    "for i in range(phi.shape[1]):\n",
    "    if sum(phi[:,i]!=0)==0:\n",
    "        idx_zero = np.append(idx_zero,int(i))"
   ]
  },
  {
   "cell_type": "code",
   "execution_count": 13,
   "metadata": {},
   "outputs": [
    {
     "name": "stdout",
     "output_type": "stream",
     "text": [
      "(7706, 1830)\n",
      "(7706, 1486)\n"
     ]
    }
   ],
   "source": [
    "phi_reduce = np.delete(phi,idx_zero,1)\n",
    "print(phi.shape)\n",
    "print(phi_reduce.shape)"
   ]
  },
  {
   "cell_type": "code",
   "execution_count": 14,
   "metadata": {},
   "outputs": [],
   "source": [
    "phi_obs = phi_reduce[idx_new,:]\n",
    "s_obs = np.vstack((normalized_lon[idx_new],normalized_lat[idx_new])).T\n",
    "X = covariates[idx_new,:]\n",
    "normalized_X = X\n",
    "for i in range(X.shape[1]):\n",
    "    normalized_X[:,i] = (X[:,i]-min(X[:,i]))/(max(X[:,i])-min(X[:,i]))\n",
    "N_obs = X.shape[0]"
   ]
  },
  {
   "cell_type": "code",
   "execution_count": 15,
   "metadata": {},
   "outputs": [
    {
     "data": {
      "image/png": "[encoded data removed]",
      "text/plain": [
       "<Figure size 640x480 with 1 Axes>"
      ]
     },
     "metadata": {},
     "output_type": "display_data"
    }
   ],
   "source": [
    "# scatter plot of the circles dataset with points colored by class\n",
    "from numpy import where\n",
    "from matplotlib import pyplot\n",
    "# select indices of points with each class label\n",
    "for i in range(2):\n",
    "\tsamples_ix = where(z_class[:,0] == i)\n",
    "\tpyplot.scatter(s_obs[samples_ix, 0], s_obs[samples_ix, 1], label=str(i))\n",
    "pyplot.legend()\n",
    "pyplot.show()"
   ]
  },
  {
   "cell_type": "code",
   "execution_count": 16,
   "metadata": {},
   "outputs": [
    {
     "name": "stderr",
     "output_type": "stream",
     "text": [
      " C:\\Users\\권헌정\\AppData\\Local\\Temp\\ipykernel_26460\\3413144608.py:2: RuntimeWarning:divide by zero encountered in log\n"
     ]
    }
   ],
   "source": [
    "## Save the prepocessed data for Kriging\n",
    "z_log = np.log(z)\n",
    "kriging = np.concatenate((s_obs, normalized_X, z, z_class,z_log),axis=1)\n",
    "traindf=pd.DataFrame(kriging)\n",
    "traindf.to_csv('C:\\git\\DeepKriging\\kriging.csv')"
   ]
  },
  {
   "cell_type": "markdown",
   "metadata": {},
   "source": [
    "## DeepKriging and baseline DNN performance"
   ]
  },
  {
   "cell_type": "markdown",
   "metadata": {},
   "source": [
    "### Load the useful functions"
   ]
  },
  {
   "cell_type": "code",
   "execution_count": 17,
   "metadata": {},
   "outputs": [],
   "source": [
    "def deep_model(model, X_train, y_train, X_valid, y_valid, data_type):\n",
    "    '''\n",
    "    Function to train a multi-class model. The number of epochs and \n",
    "    batch_size are set by the constants at the top of the\n",
    "    notebook. \n",
    "    \n",
    "    Parameters:\n",
    "        model : model with the chosen architecture\n",
    "        X_train : training features\n",
    "        y_train : training target\n",
    "        X_valid : validation features\n",
    "        Y_valid : validation target\n",
    "    Output:\n",
    "        model training history\n",
    "    '''\n",
    "    if data_type == 'continuous':\n",
    "        model.compile(optimizer='adam'\n",
    "                      , loss='mse'\n",
    "                      , metrics=['mse','mae'])\n",
    "    if data_type == 'discrete':\n",
    "        model.compile(loss='binary_crossentropy', optimizer='adam', metrics=['accuracy'])\n",
    "    \n",
    "    history = model.fit(X_train\n",
    "                       , y_train\n",
    "                       , epochs=NB_START_EPOCHS\n",
    "                       , batch_size=BATCH_SIZE\n",
    "                       , validation_data=(X_valid, y_valid)\n",
    "                       , verbose=0)\n",
    "    return history\n",
    "\n",
    "def test_model(model, X_train, y_train, X_test, y_test, epoch_stop):\n",
    "    '''\n",
    "    Function to test the model on new data after training it\n",
    "    on the full training data with the optimal number of epochs.\n",
    "    \n",
    "    Parameters:\n",
    "        model : trained model\n",
    "        X_train : training features\n",
    "        y_train : training target\n",
    "        X_test : test features\n",
    "        y_test : test target\n",
    "        epochs : optimal number of epochs\n",
    "    Output:\n",
    "        test accuracy and test loss\n",
    "    '''\n",
    "    model.fit(X_train\n",
    "              , y_train\n",
    "              , epochs=epoch_stop\n",
    "              , batch_size=BATCH_SIZE\n",
    "              , verbose=0)\n",
    "    results = model.evaluate(X_test, y_test, verbose=0)\n",
    "    return results\n",
    "    \n",
    "def optimal_epoch(model_hist):\n",
    "    '''\n",
    "    Function to return the epoch number where the validation loss is\n",
    "    at its minimum\n",
    "    \n",
    "    Parameters:\n",
    "        model_hist : training history of model\n",
    "    Output:\n",
    "        epoch number with minimum validation loss\n",
    "    '''\n",
    "    min_epoch = np.argmin(model_hist.history['val_loss']) + 1\n",
    "    return min_epoch"
   ]
  },
  {
   "cell_type": "markdown",
   "metadata": {},
   "source": [
    "### Specify the model structure"
   ]
  },
  {
   "cell_type": "code",
   "execution_count": 18,
   "metadata": {},
   "outputs": [],
   "source": [
    "# DeepKriging model for continuous data\n",
    "p = covariates.shape[1] + phi_reduce.shape[1]\n",
    "model = Sequential()\n",
    "model.add(Dense(100, input_dim = p,  kernel_initializer='he_uniform', activation='relu'))\n",
    "model.add(Dropout(rate=0.5))\n",
    "model.add(BatchNormalization())\n",
    "model.add(Dense(100, activation='relu'))\n",
    "model.add(Dropout(rate=0.5))\n",
    "model.add(Dense(100, activation='relu'))\n",
    "model.add(BatchNormalization())\n",
    "model.add(Dense(1, activation='linear'))"
   ]
  },
  {
   "cell_type": "code",
   "execution_count": 19,
   "metadata": {},
   "outputs": [],
   "source": [
    "# DeepKriging model for categorical data\n",
    "model_class = Sequential()\n",
    "model_class.add(Dense(100, input_dim = p,  kernel_initializer='he_uniform', activation='relu'))\n",
    "model_class.add(Dropout(rate=0.5))\n",
    "model_class.add(BatchNormalization())\n",
    "model_class.add(Dense(100, activation='relu'))\n",
    "model_class.add(Dropout(rate=0.5))\n",
    "model_class.add(Dense(100, activation='relu'))\n",
    "model_class.add(BatchNormalization())\n",
    "model_class.add(Dense(1, activation='sigmoid'))"
   ]
  },
  {
   "cell_type": "code",
   "execution_count": 20,
   "metadata": {},
   "outputs": [],
   "source": [
    "# Baseline DNN only with covariates and coordinates\n",
    "p_base = covariates.shape[1] + s_obs.shape[1]\n",
    "# Neural network\n",
    "model_base = Sequential()\n",
    "model_base.add(Dense(100, input_dim=p_base,  kernel_initializer='he_uniform', activation='relu'))\n",
    "model_base.add(Dropout(rate=0.5))\n",
    "model_base.add(BatchNormalization())\n",
    "model_base.add(Dense(100, activation='relu'))\n",
    "model_base.add(Dropout(rate=0.5))\n",
    "model_base.add(Dense(100, activation='relu'))\n",
    "model_base.add(BatchNormalization())\n",
    "model_base.add(Dense(1, activation='linear'))"
   ]
  },
  {
   "cell_type": "code",
   "execution_count": 21,
   "metadata": {},
   "outputs": [],
   "source": [
    "# Baseline DNN for classification\n",
    "model_base_class = Sequential()\n",
    "model_base_class.add(Dense(100, input_dim=p_base,  kernel_initializer='he_uniform', activation='relu'))\n",
    "model_base_class.add(Dropout(rate=0.5))\n",
    "model_base_class.add(BatchNormalization())\n",
    "model_base_class.add(Dense(100, activation='relu'))\n",
    "model_base_class.add(Dropout(rate=0.5))\n",
    "model_base_class.add(Dense(100, activation='relu'))\n",
    "model_base_class.add(BatchNormalization())\n",
    "model_base_class.add(Dense(1, activation='sigmoid'))"
   ]
  },
  {
   "cell_type": "markdown",
   "metadata": {},
   "source": [
    "### Run cross-validation"
   ]
  },
  {
   "cell_type": "code",
   "execution_count": 22,
   "metadata": {},
   "outputs": [],
   "source": [
    "from sklearn.model_selection import KFold\n",
    "NB_START_EPOCHS = 200  # Number of epochs we usually start to train with\n",
    "BATCH_SIZE = 64  # Size of the batches used in the mini-batch gradient descent"
   ]
  },
  {
   "cell_type": "code",
   "execution_count": 23,
   "metadata": {},
   "outputs": [
    {
     "name": "stdout",
     "output_type": "stream",
     "text": [
      "------------------------------------------------------------------------\n",
      "Training for fold 1 ...\n",
      "The performance of DeepKriging: MSE = 6.00222110748291, MAE = 1.7915234565734863\n",
      "The performance of classical DNN: MSE = 5.694897651672363, MAE = 1.7589246034622192\n",
      "The performance of DeepKriging: accuracy = 0.8524590134620667\n",
      "The performance of classical DNN: accuracy = 0.868852436542511\n",
      "------------------------------------------------------------------------\n",
      "Training for fold 2 ...\n",
      "The performance of DeepKriging: MSE = 3.218496799468994, MAE = 1.3232136964797974\n",
      "The performance of classical DNN: MSE = 3.857404947280884, MAE = 1.5494147539138794\n",
      "The performance of DeepKriging: accuracy = 0.9016393423080444\n",
      "The performance of classical DNN: accuracy = 0.868852436542511\n",
      "------------------------------------------------------------------------\n",
      "Training for fold 3 ...\n",
      "The performance of DeepKriging: MSE = 2.179072380065918, MAE = 1.0048569440841675\n",
      "The performance of classical DNN: MSE = 5.279340744018555, MAE = 1.798636794090271\n",
      "The performance of DeepKriging: accuracy = 0.9016393423080444\n",
      "The performance of classical DNN: accuracy = 0.8196721076965332\n",
      "------------------------------------------------------------------------\n",
      "Training for fold 4 ...\n",
      "The performance of DeepKriging: MSE = 2.2740912437438965, MAE = 1.1348832845687866\n",
      "The performance of classical DNN: MSE = 4.2540602684021, MAE = 1.4974253177642822\n",
      "The performance of DeepKriging: accuracy = 0.9344262480735779\n",
      "The performance of classical DNN: accuracy = 0.9180327653884888\n",
      "------------------------------------------------------------------------\n",
      "Training for fold 5 ...\n",
      "The performance of DeepKriging: MSE = 2.1447103023529053, MAE = 1.0499939918518066\n",
      "The performance of classical DNN: MSE = 4.012476921081543, MAE = 1.4873234033584595\n",
      "The performance of DeepKriging: accuracy = 0.9672130942344666\n",
      "The performance of classical DNN: accuracy = 0.9344262480735779\n",
      "------------------------------------------------------------------------\n",
      "Training for fold 6 ...\n",
      "The performance of DeepKriging: MSE = 2.5351221561431885, MAE = 0.9594175219535828\n",
      "The performance of classical DNN: MSE = 2.521622896194458, MAE = 1.243643045425415\n",
      "The performance of DeepKriging: accuracy = 0.9166666865348816\n",
      "The performance of classical DNN: accuracy = 0.8999999761581421\n",
      "------------------------------------------------------------------------\n",
      "Training for fold 7 ...\n",
      "The performance of DeepKriging: MSE = 0.8861966729164124, MAE = 0.7302801609039307\n",
      "The performance of classical DNN: MSE = 3.0961925983428955, MAE = 1.2855987548828125\n",
      "The performance of DeepKriging: accuracy = 0.9666666388511658\n",
      "The performance of classical DNN: accuracy = 0.8999999761581421\n",
      "------------------------------------------------------------------------\n",
      "Training for fold 8 ...\n",
      "The performance of DeepKriging: MSE = 1.2840501070022583, MAE = 0.883746325969696\n",
      "The performance of classical DNN: MSE = 3.256096839904785, MAE = 1.3603789806365967\n",
      "The performance of DeepKriging: accuracy = 0.9166666865348816\n",
      "The performance of classical DNN: accuracy = 0.8666666746139526\n",
      "------------------------------------------------------------------------\n",
      "Training for fold 9 ...\n",
      "The performance of DeepKriging: MSE = 2.496093988418579, MAE = 0.981119692325592\n",
      "The performance of classical DNN: MSE = 6.219045639038086, MAE = 1.932631015777588\n",
      "The performance of DeepKriging: accuracy = 0.9333333373069763\n",
      "The performance of classical DNN: accuracy = 0.8833333253860474\n",
      "------------------------------------------------------------------------\n",
      "Training for fold 10 ...\n",
      "The performance of DeepKriging: MSE = 0.48259785771369934, MAE = 0.5345951914787292\n",
      "The performance of classical DNN: MSE = 2.4662466049194336, MAE = 1.1688016653060913\n",
      "The performance of DeepKriging: accuracy = 0.9833333492279053\n",
      "The performance of classical DNN: accuracy = 0.9333333373069763\n"
     ]
    }
   ],
   "source": [
    "# 10-fold cross-validation\n",
    "num_folds = 10\n",
    "kfold = KFold(n_splits=num_folds, shuffle=True, random_state = 123)\n",
    "fold_no = 1\n",
    "inputs = np.hstack((normalized_X,phi_obs))\n",
    "inputs_base = np.hstack((normalized_X,s_obs))\n",
    "targets = z\n",
    "targets_class = z_class\n",
    "mse_per_fold = []\n",
    "mse_per_fold_base = []\n",
    "mae_per_fold = []\n",
    "mae_per_fold_base = []\n",
    "acc_per_fold = []\n",
    "acc_per_fold_base = []\n",
    "for train_idx, test_idx in kfold.split(inputs, targets):\n",
    "    print('------------------------------------------------------------------------')\n",
    "    print(f'Training for fold {fold_no} ...')\n",
    "    history = deep_model(model, inputs[train_idx], targets[train_idx,0:1]\\\n",
    "                              , inputs[test_idx], targets[test_idx,0:1],'continuous')\n",
    "    history_base = deep_model(model_base, inputs_base[train_idx], targets[train_idx,0:1]\\\n",
    "                              , inputs_base[test_idx], targets[test_idx,0:1],'continuous')\n",
    "    ## Classification\n",
    "    history_class = deep_model(model_class, inputs[train_idx], targets_class[train_idx,0:1]\\\n",
    "                              , inputs[test_idx], targets_class[test_idx,0:1],'discrete')\n",
    "    history_base_class = deep_model(model_base_class, inputs_base[train_idx], targets_class[train_idx,0:1]\\\n",
    "                              , inputs_base[test_idx], targets_class[test_idx,0:1],'discrete')\n",
    "    model_optim = 200 #optimal_epoch(history)\n",
    "    model_optim_base = 200 #optimal_epoch(history_base)\n",
    "    result = test_model(model, inputs[train_idx], targets[train_idx,0:1], inputs[test_idx]\\\n",
    "                        , targets[test_idx,0:1], model_optim)\n",
    "    result_base = test_model(model_base, inputs_base[train_idx], targets[train_idx,0:1], inputs_base[test_idx]\\\n",
    "                             , targets[test_idx,0:1], model_optim_base)\n",
    "    scores = result\n",
    "    scores_base = result_base\n",
    "    print(f'The performance of DeepKriging: MSE = {scores[1]}, MAE = {scores[2]}')\n",
    "    print(f'The performance of classical DNN: MSE = {scores_base[1]}, MAE = {scores_base[2]}')\n",
    "    model_optim_class = 200 #optimal_epoch(history_class)\n",
    "    model_optim_base_class = 200 #optimal_epoch(history_base_class)\n",
    "    result_class = test_model(model_class, inputs[train_idx], targets_class[train_idx,0:1], inputs[test_idx]\\\n",
    "                        , targets_class[test_idx,0:1], model_optim_class)\n",
    "    result_base_class = test_model(model_base_class, inputs_base[train_idx], targets_class[train_idx,0:1], inputs_base[test_idx]\\\n",
    "                             , targets_class[test_idx,0:1], model_optim_base_class)\n",
    "    scores_class = result_class\n",
    "    scores_base_class = result_base_class\n",
    "    print(f'The performance of DeepKriging: accuracy = {scores_class[1]}')\n",
    "    print(f'The performance of classical DNN: accuracy = {result_base_class[1]}')\n",
    "    fold_no = fold_no + 1\n",
    "    acc_per_fold.append(scores_class[1])\n",
    "    acc_per_fold_base.append(scores_base_class[1])\n",
    "    mse_per_fold.append(scores[1])\n",
    "    mse_per_fold_base.append(scores_base[1])\n",
    "    mae_per_fold.append(scores[2])\n",
    "    mae_per_fold_base.append(scores_base[2])"
   ]
  },
  {
   "cell_type": "code",
   "execution_count": 24,
   "metadata": {},
   "outputs": [
    {
     "name": "stdout",
     "output_type": "stream",
     "text": [
      "2.3502652615308763\n",
      "1.4488582069137403\n",
      "4.06573851108551\n",
      "1.240307725129317\n",
      "1.0393630266189575\n",
      "0.32265573518842783\n",
      "1.5082778334617615\n",
      "0.24211413560987516\n",
      "0.927404373884201\n",
      "0.0367611831772677\n",
      "0.8893169283866882\n",
      "0.033558871693821254\n"
     ]
    }
   ],
   "source": [
    "##Summerize the results with meassage\n",
    "print(np.mean(mse_per_fold))\n",
    "print(np.std(mse_per_fold))\n",
    "print(np.mean(mse_per_fold_base))\n",
    "print(np.std(mse_per_fold_base))\n",
    "print(np.mean(mae_per_fold))\n",
    "print(np.std(mae_per_fold))\n",
    "print(np.mean(mae_per_fold_base))\n",
    "print(np.std(mae_per_fold_base))\n",
    "print(np.mean(acc_per_fold))\n",
    "print(np.std(acc_per_fold))\n",
    "print(np.mean(acc_per_fold_base))\n",
    "print(np.std(acc_per_fold_base))"
   ]
  },
  {
   "cell_type": "code",
   "execution_count": 25,
   "metadata": {},
   "outputs": [],
   "source": [
    "## Save the same test index for Kriging\n",
    "train_idx_combine = []\n",
    "test_idx_combine = []\n",
    "for train_idx, test_idx in kfold.split(inputs, targets):\n",
    "    train_idx_combine.append(train_idx)\n",
    "    test_idx_combine.append(test_idx)  \n",
    "test_df = pd.DataFrame(test_idx_combine).T\n",
    "test_df.to_csv('C:\\git\\DeepKriging/test_idx.csv')"
   ]
  },
  {
   "cell_type": "markdown",
   "metadata": {},
   "source": [
    "### The case without covariates"
   ]
  },
  {
   "cell_type": "code",
   "execution_count": 26,
   "metadata": {},
   "outputs": [],
   "source": [
    "# DeepKriging model for continuous data\n",
    "p2 =  phi_reduce.shape[1]\n",
    "model_nx = Sequential()\n",
    "model_nx.add(Dense(100, input_dim = p2,  kernel_initializer='he_uniform', activation='relu'))\n",
    "model_nx.add(Dropout(rate=0.5))\n",
    "model_nx.add(BatchNormalization())\n",
    "model_nx.add(Dense(100, activation='relu'))\n",
    "model_nx.add(Dropout(rate=0.5))\n",
    "model_nx.add(Dense(100, activation='relu'))\n",
    "model_nx.add(BatchNormalization())\n",
    "model_nx.add(Dense(1, activation='linear'))"
   ]
  },
  {
   "cell_type": "code",
   "execution_count": 27,
   "metadata": {},
   "outputs": [],
   "source": [
    "# DeepKriging model for categorical data\n",
    "model_class_nx = Sequential()\n",
    "model_class_nx.add(Dense(100, input_dim = p2,  kernel_initializer='he_uniform', activation='relu'))\n",
    "model_class_nx.add(Dropout(rate=0.5))\n",
    "model_class_nx.add(BatchNormalization())\n",
    "model_class_nx.add(Dense(100, activation='relu'))\n",
    "model_class_nx.add(Dropout(rate=0.5))\n",
    "model_class_nx.add(Dense(100, activation='relu'))\n",
    "model_class_nx.add(BatchNormalization())\n",
    "model_class_nx.add(Dense(1, activation='sigmoid'))"
   ]
  },
  {
   "cell_type": "code",
   "execution_count": 28,
   "metadata": {},
   "outputs": [
    {
     "name": "stdout",
     "output_type": "stream",
     "text": [
      "------------------------------------------------------------------------\n",
      "Training for fold 1 ...\n",
      "The performance of DeepKriging without X: MSE = 5.687574863433838, MAE = 1.7708925008773804\n",
      "The performance of DeepKriging without X: accuracy = 0.8360655903816223\n",
      "------------------------------------------------------------------------\n",
      "Training for fold 2 ...\n",
      "The performance of DeepKriging without X: MSE = 3.136072874069214, MAE = 1.3223639726638794\n",
      "The performance of DeepKriging without X: accuracy = 0.9016393423080444\n",
      "------------------------------------------------------------------------\n",
      "Training for fold 3 ...\n",
      "The performance of DeepKriging without X: MSE = 2.202849864959717, MAE = 1.0512882471084595\n",
      "The performance of DeepKriging without X: accuracy = 0.9180327653884888\n",
      "------------------------------------------------------------------------\n",
      "Training for fold 4 ...\n",
      "The performance of DeepKriging without X: MSE = 2.33182954788208, MAE = 1.1514394283294678\n",
      "The performance of DeepKriging without X: accuracy = 0.9508196711540222\n",
      "------------------------------------------------------------------------\n",
      "Training for fold 5 ...\n",
      "The performance of DeepKriging without X: MSE = 2.0543994903564453, MAE = 0.9813435077667236\n",
      "The performance of DeepKriging without X: accuracy = 0.9508196711540222\n",
      "------------------------------------------------------------------------\n",
      "Training for fold 6 ...\n",
      "The performance of DeepKriging without X: MSE = 0.9378901124000549, MAE = 0.7581862211227417\n",
      "The performance of DeepKriging without X: accuracy = 0.9333333373069763\n",
      "------------------------------------------------------------------------\n",
      "Training for fold 7 ...\n",
      "The performance of DeepKriging without X: MSE = 0.8105849027633667, MAE = 0.778317391872406\n",
      "The performance of DeepKriging without X: accuracy = 0.9666666388511658\n",
      "------------------------------------------------------------------------\n",
      "Training for fold 8 ...\n",
      "The performance of DeepKriging without X: MSE = 1.1287305355072021, MAE = 0.7542213201522827\n",
      "The performance of DeepKriging without X: accuracy = 0.9333333373069763\n",
      "------------------------------------------------------------------------\n",
      "Training for fold 9 ...\n",
      "The performance of DeepKriging without X: MSE = 1.4183071851730347, MAE = 0.7837933897972107\n",
      "The performance of DeepKriging without X: accuracy = 0.949999988079071\n",
      "------------------------------------------------------------------------\n",
      "Training for fold 10 ...\n",
      "The performance of DeepKriging without X: MSE = 0.6258559823036194, MAE = 0.6304208040237427\n",
      "The performance of DeepKriging without X: accuracy = 0.9833333492279053\n"
     ]
    }
   ],
   "source": [
    "inputs = phi_obs\n",
    "inputs_base = s_obs\n",
    "targets = z\n",
    "targets_class = z_class\n",
    "mse_per_fold_nx = []\n",
    "mae_per_fold_nx = []\n",
    "acc_per_fold_nx = []\n",
    "fold_no = 1\n",
    "for train_idx, test_idx in kfold.split(inputs, targets):\n",
    "    print('------------------------------------------------------------------------')\n",
    "    print(f'Training for fold {fold_no} ...')\n",
    "    history_nx = deep_model(model_nx, inputs[train_idx], targets[train_idx,0:1]\\\n",
    "                              , inputs[test_idx], targets[test_idx,0:1],'continuous')\n",
    "    ## Classification\n",
    "    history_class_nx = deep_model(model_class_nx, inputs[train_idx], targets_class[train_idx,0:1]\\\n",
    "                              , inputs[test_idx], targets_class[test_idx,0:1],'discrete')\n",
    "    model_optim_nx = 200#optimal_epoch(history_nx)\n",
    "    result_nx = test_model(model_nx, inputs[train_idx], targets[train_idx,0:1], inputs[test_idx]\\\n",
    "                        , targets[test_idx,0:1], model_optim_nx)\n",
    "    scores_nx = result_nx\n",
    "    print(f'The performance of DeepKriging without X: MSE = {scores_nx[1]}, MAE = {scores_nx[2]}')\n",
    "    model_optim_class_nx = 200#optimal_epoch(history_class_nx)\n",
    "    result_class_nx = test_model(model_class_nx, inputs[train_idx], targets_class[train_idx,0:1], inputs[test_idx]\\\n",
    "                        , targets_class[test_idx,0:1], model_optim_class_nx)\n",
    "    scores_class_nx = result_class_nx\n",
    "    print(f'The performance of DeepKriging without X: accuracy = {scores_class_nx[1]}')\n",
    "    fold_no = fold_no + 1\n",
    "    acc_per_fold_nx.append(scores_class_nx[1])\n",
    "    mse_per_fold_nx.append(scores_nx[1])\n",
    "    mae_per_fold_nx.append(scores_nx[2])"
   ]
  },
  {
   "cell_type": "code",
   "execution_count": 29,
   "metadata": {},
   "outputs": [
    {
     "name": "stdout",
     "output_type": "stream",
     "text": [
      "2.033409535884857\n",
      "1.43389193029597\n",
      "0.9982266783714294\n",
      "0.32793796727338204\n",
      "0.9324043691158295\n",
      "0.03897618858696521\n"
     ]
    }
   ],
   "source": [
    "print(np.mean(mse_per_fold_nx))\n",
    "print(np.std(mse_per_fold_nx))\n",
    "print(np.mean(mae_per_fold_nx))\n",
    "print(np.std(mae_per_fold_nx))\n",
    "print(np.mean(acc_per_fold_nx))\n",
    "print(np.std(acc_per_fold_nx))"
   ]
  },
  {
   "cell_type": "markdown",
   "metadata": {},
   "source": [
    "## Prediction"
   ]
  },
  {
   "cell_type": "code",
   "execution_count": 30,
   "metadata": {},
   "outputs": [
    {
     "data": {
      "text/plain": [
       "array([[ 2.83941597e-01,  2.78605652e+02,  9.69295703e+04,\n",
       "         7.95895996e+01,  4.85297585e+00,  1.65103745e+00],\n",
       "       [ 2.76129097e-01,  2.78605652e+02,  9.72420703e+04,\n",
       "         7.95895996e+01,  4.47016335e+00,  1.64615464e+00],\n",
       "       [ 2.76129097e-01,  2.79753113e+02,  9.86920703e+04,\n",
       "         7.56520996e+01,  4.47797585e+00,  1.62467027e+00],\n",
       "       ...,\n",
       "       [ 3.93316597e-01,  2.93506042e+02,  1.00979570e+05,\n",
       "         7.11989822e+01,  1.48481190e+00, -3.00521255e+00],\n",
       "       [ 2.06519151e+00,  2.92847839e+02,  1.01029570e+05,\n",
       "         7.33864746e+01,  1.86274159e+00, -2.99056411e+00],\n",
       "       [ 8.73706627e+00,  2.92403503e+02,  1.01292070e+05,\n",
       "         7.79099121e+01,  1.79731190e+00, -3.06185317e+00]])"
      ]
     },
     "execution_count": 30,
     "metadata": {},
     "output_type": "execute_result"
    }
   ],
   "source": [
    "covariates"
   ]
  },
  {
   "cell_type": "code",
   "execution_count": 31,
   "metadata": {},
   "outputs": [],
   "source": [
    "inputs = np.hstack((normalized_X,phi_obs))\n",
    "targets = z\n",
    "history = deep_model(model, inputs, targets[:,0:1], inputs, targets[:,0:1],'continuous')"
   ]
  },
  {
   "cell_type": "code",
   "execution_count": 32,
   "metadata": {},
   "outputs": [],
   "source": [
    "X_pred = covariates\n",
    "normalized_X_pred = X_pred\n",
    "for i in range(X_pred.shape[1]):\n",
    "    normalized_X_pred[:,i] = (X_pred[:,i]-min(X[:,i]))/(max(X[:,i])-min(X[:,i]))"
   ]
  },
  {
   "cell_type": "code",
   "execution_count": 33,
   "metadata": {},
   "outputs": [
    {
     "name": "stdout",
     "output_type": "stream",
     "text": [
      "241/241 [==============================] - 0s 848us/step\n"
     ]
    }
   ],
   "source": [
    "X_RBF_pred = np.hstack((normalized_X_pred,phi_reduce))\n",
    "PM25_pred = model.predict(X_RBF_pred)"
   ]
  },
  {
   "cell_type": "code",
   "execution_count": 34,
   "metadata": {},
   "outputs": [],
   "source": [
    "s = np.vstack((normalized_lon,normalized_lat)).T\n",
    "PM25_pred_combine = np.concatenate((s,normalized_X_pred,PM25_pred),axis=1)\n",
    "PM25_pred_df=pd.DataFrame(PM25_pred_combine)\n",
    "PM25_pred_df.to_csv('C:\\git\\DeepKriging\\PM25_pred_0605.csv')"
   ]
  },
  {
   "cell_type": "markdown",
   "metadata": {},
   "source": [
    "### Risk"
   ]
  },
  {
   "cell_type": "code",
   "execution_count": 35,
   "metadata": {},
   "outputs": [],
   "source": [
    "import sys\n",
    "sys.path.append('../')\n",
    "from dcdr.deep_hist import Binning_CDF\n",
    "from scipy.stats import iqr\n",
    "%matplotlib inline\n",
    "%config InlineBackend.figure_format = 'svg'\n",
    "import matplotlib;matplotlib.rcParams['figure.figsize'] = (8,6)\n",
    "init_seed=1\n",
    "num_cut = int((max(z)-min(z))*N**(1/3)/(2*iqr(z)))\n",
    "hidden_list = [100,100,100]\n",
    "dropout_list = [0.5,0.5,0.5]\n",
    "histogram_bin = 'random'\n",
    "loss_model = 'multi-binary'\n",
    "seeding = 1"
   ]
  },
  {
   "cell_type": "code",
   "execution_count": 36,
   "metadata": {},
   "outputs": [],
   "source": [
    "import tensorflow as tf\n",
    "\n",
    "# GPU 설정\n",
    "gpus = tf.config.experimental.list_physical_devices('GPU')\n",
    "if gpus:\n",
    "    try:\n",
    "        # 첫 번째 GPU만 사용하도록 설정\n",
    "        tf.config.experimental.set_visible_devices(gpus[0], 'GPU')\n",
    "        \n",
    "        # GPU 메모리 할당을 동적으로 조정\n",
    "        tf.config.experimental.set_memory_growth(gpus[0], True)\n",
    "    except RuntimeError as e:\n",
    "        print(e)"
   ]
  },
  {
   "cell_type": "code",
   "execution_count": 38,
   "metadata": {},
   "outputs": [
    {
     "ename": "AttributeError",
     "evalue": "module 'tensorflow' has no attribute 'set_random_seed'",
     "output_type": "error",
     "traceback": [
      "\u001b[1;31m---------------------------------------------------------------------------\u001b[0m",
      "\u001b[1;31mAttributeError\u001b[0m                            Traceback (most recent call last)",
      "Cell \u001b[1;32mIn[38], line 6\u001b[0m\n\u001b[0;32m      1\u001b[0m dcdr_model \u001b[38;5;241m=\u001b[39m Binning_CDF(num_cut\u001b[38;5;241m=\u001b[39mnum_cut, hidden_list\u001b[38;5;241m=\u001b[39mhidden_list,\n\u001b[0;32m      2\u001b[0m                          histogram_bin\u001b[38;5;241m=\u001b[39mhistogram_bin, dropout_list\u001b[38;5;241m=\u001b[39mdropout_list,\n\u001b[0;32m      3\u001b[0m                          seeding\u001b[38;5;241m=\u001b[39mseeding, loss_model\u001b[38;5;241m=\u001b[39mloss_model, \n\u001b[0;32m      4\u001b[0m                          niter\u001b[38;5;241m=\u001b[39m\u001b[38;5;241m10\u001b[39m)\n\u001b[1;32m----> 6\u001b[0m \u001b[43mdcdr_model\u001b[49m\u001b[38;5;241;43m.\u001b[39;49m\u001b[43mfit_cdf\u001b[49m\u001b[43m(\u001b[49m\u001b[43minputs\u001b[49m\u001b[43m,\u001b[49m\u001b[43m \u001b[49m\u001b[43mtargets\u001b[49m\u001b[43m,\u001b[49m\u001b[43m \u001b[49m\u001b[43mbatch_size\u001b[49m\u001b[38;5;241;43m=\u001b[39;49m\u001b[38;5;241;43m32\u001b[39;49m\u001b[43m,\u001b[49m\u001b[43m \u001b[49m\u001b[43mmerge_empty_bin\u001b[49m\u001b[38;5;241;43m=\u001b[39;49m\u001b[38;5;28;43;01mTrue\u001b[39;49;00m\u001b[43m)\u001b[49m\n",
      "File \u001b[1;32mc:\\git\\DeepKriging\\dcdr\\deep_hist.py:271\u001b[0m, in \u001b[0;36mBinning_CDF.fit_cdf\u001b[1;34m(self, train_x, train_y, valid_x, valid_y, ylim, batch_size, epochs, y_margin, opt_spec, validation_ratio, shuffle, verbose, gpu_count, merge_empty_bin)\u001b[0m\n\u001b[0;32m    268\u001b[0m     Valid_label \u001b[38;5;241m=\u001b[39m np\u001b[38;5;241m.\u001b[39mtile(random_cut, valid_y\u001b[38;5;241m.\u001b[39mshape[\u001b[38;5;241m0\u001b[39m])\u001b[38;5;241m.\u001b[39mreshape(valid_y\u001b[38;5;241m.\u001b[39mshape[\u001b[38;5;241m0\u001b[39m], \u001b[38;5;241m-\u001b[39m\u001b[38;5;241m1\u001b[39m)\n\u001b[0;32m    269\u001b[0m     Valid_label \u001b[38;5;241m=\u001b[39m (Valid_label \u001b[38;5;241m>\u001b[39m valid_y)\u001b[38;5;241m.\u001b[39mastype(np\u001b[38;5;241m.\u001b[39mint8)  \n\u001b[1;32m--> 271\u001b[0m \u001b[43mtf\u001b[49m\u001b[38;5;241;43m.\u001b[39;49m\u001b[43mset_random_seed\u001b[49m(seeding2)\n\u001b[0;32m    273\u001b[0m earlyStop \u001b[38;5;241m=\u001b[39m GetBest(monitor\u001b[38;5;241m=\u001b[39m\u001b[38;5;124m'\u001b[39m\u001b[38;5;124mval_acc\u001b[39m\u001b[38;5;124m'\u001b[39m, patience \u001b[38;5;241m=\u001b[39m \u001b[38;5;241m20\u001b[39m, restore_best_weights\u001b[38;5;241m=\u001b[39m\u001b[38;5;28;01mTrue\u001b[39;00m)\n\u001b[0;32m    274\u001b[0m reduce_lr \u001b[38;5;241m=\u001b[39m ReduceLROnPlateau(monitor\u001b[38;5;241m=\u001b[39m\u001b[38;5;124m'\u001b[39m\u001b[38;5;124mval_acc\u001b[39m\u001b[38;5;124m'\u001b[39m, factor \u001b[38;5;241m=\u001b[39m \u001b[38;5;241m0.2\u001b[39m, patience \u001b[38;5;241m=\u001b[39m \u001b[38;5;241m7\u001b[39m)\n",
      "\u001b[1;31mAttributeError\u001b[0m: module 'tensorflow' has no attribute 'set_random_seed'"
     ]
    }
   ],
   "source": [
    "dcdr_model = Binning_CDF(num_cut=num_cut, hidden_list=hidden_list,\n",
    "                         histogram_bin=histogram_bin, dropout_list=dropout_list,\n",
    "                         seeding=seeding, loss_model=loss_model, \n",
    "                         niter=10)\n",
    "    \n",
    "dcdr_model.fit_cdf(inputs, targets, batch_size=32, merge_empty_bin=True)"
   ]
  },
  {
   "cell_type": "code",
   "execution_count": null,
   "metadata": {},
   "outputs": [],
   "source": [
    "risk = dcdr_model.predict_cdf(X_RBF_pred,pred_lim=[12,12],ngrid=1)\n",
    "\n",
    "# 모형별 예측밴드 그려보는 작업이 있으면 좋을것 같습니다."
   ]
  },
  {
   "cell_type": "code",
   "execution_count": null,
   "metadata": {},
   "outputs": [],
   "source": [
    "riskdf=pd.DataFrame(risk)\n",
    "riskdf.to_csv('C:\\git\\DeepKriging/risk_pred.csv')"
   ]
  },
  {
   "cell_type": "code",
   "execution_count": null,
   "metadata": {},
   "outputs": [],
   "source": []
  }
 ],
 "metadata": {
  "kernelspec": {
   "display_name": "Python 3",
   "language": "python",
   "name": "python3"
  },
  "language_info": {
   "codemirror_mode": {
    "name": "ipython",
    "version": 3
   },
   "file_extension": ".py",
   "mimetype": "text/x-python",
   "name": "python",
   "nbconvert_exporter": "python",
   "pygments_lexer": "ipython3",
   "version": "3.8.10"
  }
 },
 "nbformat": 4,
 "nbformat_minor": 2
}
